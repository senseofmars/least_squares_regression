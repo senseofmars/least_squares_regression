{
 "cells": [
  {
   "cell_type": "code",
   "execution_count": 1,
   "id": "58d7e264",
   "metadata": {},
   "outputs": [],
   "source": [
    "import pandas as pd\n",
    "import numpy as np\n",
    "from numpy.random import seed\n",
    "from numpy.random import normal\n",
    "from sklearn.linear_model import LinearRegression\n",
    "#visualization libraries\n",
    "import matplotlib.pyplot as plt\n",
    "%matplotlib inline\n",
    "import matplotlib.pyplot as plt\n",
    "import seaborn as sns"
   ]
  },
  {
   "cell_type": "code",
   "execution_count": 2,
   "id": "0f662108",
   "metadata": {},
   "outputs": [],
   "source": [
    "def make_regression(var, obs, a, b):\n",
    "    #define seed with 1 to make the experiment repeatable with same data\n",
    "    #seed(1)\n",
    "    Y=np.zeros(obs)\n",
    "    #Generate a sequence of n disturbances \n",
    "    mu, sigma = 0, var # mean and standard deviation\n",
    "    e = np.random.normal(mu, sigma, obs)\n",
    "    #e = normal(loc=0, scale=1, size=obs)\n",
    "    EPS1=e*var\n",
    "    X=np.arange(1,obs+1)\n",
    "    #We are developing equation (1) α+βx\n",
    "    YSYS=a+b*X\n",
    "    Y=YSYS+EPS1\n",
    "    Y #this is our data explanatory variable \n",
    "    return X, Y"
   ]
  },
  {
   "cell_type": "code",
   "execution_count": 3,
   "id": "5bb7bf6c",
   "metadata": {},
   "outputs": [],
   "source": [
    "def find_reg_params(X, Y):\n",
    "    n=len(X)\n",
    "          \n",
    "    xy = []\n",
    "    y=[]\n",
    "    x=[]\n",
    "    \n",
    "    y=Y\n",
    "    x=X\n",
    "    \n",
    "    for i, val in enumerate(x):\n",
    "        xy.append(x[i] * y[i])\n",
    "        \n",
    "    x_sqrt = [i**2 for i in x]\n",
    "      \n",
    "    beta = (n*sum(xy) - sum(x)*sum(y)) / (n*sum(x_sqrt) - sum(x)**2)\n",
    "    alpha = (sum(y) - beta*sum(x))/n\n",
    "    return (alpha, beta)"
   ]
  },
  {
   "cell_type": "code",
   "execution_count": 4,
   "id": "1c29d08a",
   "metadata": {},
   "outputs": [],
   "source": [
    "#We are simulating a least square regression based on the user input for number of observations, variance and a and b parameters of the equation Y=a+βx\n",
    "#Then we are taking the reverse direct procedure to calculate the given parametes based on X and Y\n",
    "def regression(var, obs, a, b):\n",
    "    X=[]\n",
    "    Y=[]\n",
    "    XY=[]\n",
    "    n=obs\n",
    "    #print (\"n eq\", n)\n",
    "    \n",
    "    #define seed with 1 to make the experiment repeatable with same data\n",
    "    #seed(1)\n",
    "    Y=np.zeros(obs)\n",
    "     \n",
    "    mu, sigma = 0, var # mean and standard deviation -not used here\n",
    "    #e = np.random.normal(mu, sigma, obs)\n",
    "    \n",
    "    #Generate a sequence of n disturbances\n",
    "    e = normal(loc=0, scale=1, size=obs)\n",
    "    EPS1=e*var\n",
    "    X=np.arange(1,obs+1, dtype=np.dtype('f8'))\n",
    "    #We are developing equation (1) α+βx\n",
    "    YSYS=a+b*X\n",
    "    Y=YSYS+EPS1\n",
    "    Y #this is our data explanatory variable \n",
    "    #print (\"length y\", len(Y))\n",
    "    \n",
    "    for i, val in enumerate(X):\n",
    "        XY.append(X[i] * Y[i])\n",
    "        \n",
    "    \n",
    "    x_sqrt = [i**2 for i in X]\n",
    "      \n",
    "\n",
    "      \n",
    "    beta = (n*sum(XY) - sum(X)*sum(Y)) / (n*sum(x_sqrt) - sum(X)**2)\n",
    "    alpha = (sum(Y) - beta*sum(X))/n\n",
    "    return (alpha, beta)\n"
   ]
  },
  {
   "cell_type": "code",
   "execution_count": null,
   "id": "9ea67799",
   "metadata": {},
   "outputs": [],
   "source": []
  },
  {
   "cell_type": "code",
   "execution_count": null,
   "id": "57eec093",
   "metadata": {},
   "outputs": [],
   "source": []
  }
 ],
 "metadata": {
  "kernelspec": {
   "display_name": "Python 3 (ipykernel)",
   "language": "python",
   "name": "python3"
  },
  "language_info": {
   "codemirror_mode": {
    "name": "ipython",
    "version": 3
   },
   "file_extension": ".py",
   "mimetype": "text/x-python",
   "name": "python",
   "nbconvert_exporter": "python",
   "pygments_lexer": "ipython3",
   "version": "3.9.13"
  }
 },
 "nbformat": 4,
 "nbformat_minor": 5
}
